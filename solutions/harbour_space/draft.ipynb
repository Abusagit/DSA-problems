{
 "cells": [
  {
   "cell_type": "code",
   "execution_count": 1,
   "metadata": {},
   "outputs": [],
   "source": [
    "import numpy as np"
   ]
  },
  {
   "cell_type": "code",
   "execution_count": 6,
   "metadata": {},
   "outputs": [
    {
     "name": "stdout",
     "output_type": "stream",
     "text": [
      "[0, 0, 1] 3\n",
      "[2, 4, 8] 3\n",
      "[7, 8, 9] 2\n"
     ]
    }
   ],
   "source": [
    "A = np.array([\n",
    "    [1, 2, 3],\n",
    "    [4, 5, 6],\n",
    "    [0, 0, 0]\n",
    "]).T\n",
    "\n",
    "candidats = [\n",
    "    [0, 0, 1],\n",
    "    # [0,0,1j],\n",
    "    [2, 4, 8],\n",
    "    [7, 8, 9]\n",
    "]\n",
    "\n",
    "for cand in candidats:\n",
    "    B = A.copy()\n",
    "    B[:, -1] = cand\n",
    "    \n",
    "    print(cand, np.linalg.matrix_rank(B))"
   ]
  },
  {
   "cell_type": "code",
   "execution_count": 7,
   "metadata": {},
   "outputs": [],
   "source": [
    "\n",
    "from bisect import bisect_right\n",
    "\n",
    "def coffee_choices(n, m, coffee_prices, daily_budgets):\n",
    "    # For each day, count the number of coffees Artem can afford\n",
    "    choices_per_day = []\n",
    "    for budget in daily_budgets:\n",
    "        affordable_coffees = sum(price <= budget for price in coffee_prices)\n",
    "        choices_per_day.append(affordable_coffees)\n",
    "    \n",
    "    return choices_per_day\n",
    "\n",
    "\n",
    "\n",
    "def coffee_choices(coffee_prices, daily_budgets):\n",
    "    # For each day, count the number of coffees Artem can afford\n",
    "    choices_per_day = []\n",
    "    \n",
    "    coffee_prices.sort()\n",
    "    \n",
    "    for budget in daily_budgets:\n",
    "        number_of_coffe_types_cheaper_than_budget = bisect_right(a=coffee_prices, x=budget)\n",
    "        choices_per_day.append(number_of_coffe_types_cheaper_than_budget)\n",
    "    return choices_per_day"
   ]
  },
  {
   "cell_type": "code",
   "execution_count": 8,
   "metadata": {},
   "outputs": [
    {
     "name": "stdout",
     "output_type": "stream",
     "text": [
      "[2, 3, 5, 4, 4, 3, 5]\n"
     ]
    }
   ],
   "source": [
    "# Example usage\n",
    "n = 5  # Number of types of coffee\n",
    "m = 7  # Number of days\n",
    "coffee_prices = [1, 2, 1, 5, 10]  # Prices of each type of coffee\n",
    "daily_budgets = [1, 2, 10, 8, 5, 4, 20]  # Daily budgets\n",
    "\n",
    "# Get the number of coffee choices for each day\n",
    "choices = coffee_choices(n, m, coffee_prices, daily_budgets)\n",
    "print(choices)  "
   ]
  },
  {
   "cell_type": "code",
   "execution_count": 9,
   "metadata": {},
   "outputs": [
    {
     "name": "stdout",
     "output_type": "stream",
     "text": [
      "[0, 0, 0, 0, 0]\n"
     ]
    }
   ],
   "source": [
    "# Example usage\n",
    "n = 3  # Number of types of coffee\n",
    "m = 5  # Number of days\n",
    "coffee_prices = [10, 20, 30]  # Prices of each type of coffee\n",
    "daily_budgets = [1, 2, 3, 4, 5]  # Daily budgets\n",
    "\n",
    "# Get the number of coffee choices for each day\n",
    "choices = coffee_choices(n, m, coffee_prices, daily_budgets)\n",
    "print(choices)  "
   ]
  },
  {
   "cell_type": "code",
   "execution_count": 12,
   "metadata": {},
   "outputs": [
    {
     "name": "stdout",
     "output_type": "stream",
     "text": [
      "2 3 5 4 4 3 5\n"
     ]
    }
   ],
   "source": [
    "n, m = map(int, input().split())\n",
    "\n",
    "coffee_prices = list(map(int, input().split()))\n",
    "daily_budgets = list(map(int, input().split()))\n",
    "choices = coffee_choices(n, m, coffee_prices, daily_budgets)\n",
    "print(*choices)  "
   ]
  },
  {
   "cell_type": "code",
   "execution_count": 24,
   "metadata": {},
   "outputs": [
    {
     "name": "stdout",
     "output_type": "stream",
     "text": [
      "0 0 ---> 0 1\n",
      "0 1 ---> 0 2\n",
      "0 2 ---> 3 3\n",
      "3 3 ---> 3 4\n",
      "3 4 ---> 3 5\n",
      "6\n"
     ]
    }
   ],
   "source": [
    "def count_substrings(s, available_letters):\n",
    "    count = 0\n",
    "    \n",
    "    available_letters = set(available_letters)\n",
    "    \n",
    "    left_pointer = 0\n",
    "    right_pointer = 0\n",
    "    \n",
    "    # current_window_letters = set()\n",
    "    \n",
    "    while right_pointer < len(s):\n",
    "        print(left_pointer, right_pointer, \"--->\", end=\" \")\n",
    "        if s[right_pointer] in available_letters:\n",
    "            right_pointer += 1\n",
    "        else:\n",
    "            length_of_substring = right_pointer - left_pointer\n",
    "            number_of_substring_here = length_of_substring * (length_of_substring + 1) // 2\n",
    "            \n",
    "            count += number_of_substring_here\n",
    "            \n",
    "            while right_pointer < len(s) and s[right_pointer] not in available_letters:\n",
    "                right_pointer += 1\n",
    "            else:\n",
    "                left_pointer = right_pointer\n",
    "        print(left_pointer, right_pointer)\n",
    "    length_of_substring = right_pointer - left_pointer\n",
    "    number_of_substring_here = length_of_substring * (length_of_substring + 1) // 2\n",
    "            \n",
    "    count += number_of_substring_here\n",
    "    return count\n",
    "        \n",
    "        \n",
    "\n",
    "# Example usage\n",
    "n = 5  # Length of the string\n",
    "k = 2  # Number of available letters\n",
    "s = \"abcab\"  # The string\n",
    "available_letters = {\"a\", \"b\"}  # Set of available letters\n",
    "\n",
    "# Calculate the number of substrings\n",
    "result = count_substrings(s, available_letters)\n",
    "print(result)"
   ]
  },
  {
   "cell_type": "code",
   "execution_count": null,
   "metadata": {},
   "outputs": [],
   "source": [
    "def count_substrings(n, k, s, available_letters):\n",
    "    count = 0\n",
    "    consecutive = 0\n",
    "\n",
    "    for char in s:\n",
    "        if char in available_letters:\n",
    "            consecutive += 1  # Increase the count of consecutive valid letters\n",
    "            count += consecutive  # Add all possible substrings ending at this letter\n",
    "        else:\n",
    "            consecutive = 0  # Reset the count if an invalid letter is encountered\n",
    "    \n",
    "    return count\n",
    "\n",
    "n, k = map(int, input().split())\n",
    "\n",
    "s = input()\n",
    "\n",
    "available_letters = input().split()\n",
    "\n"
   ]
  },
  {
   "cell_type": "code",
   "execution_count": 14,
   "metadata": {},
   "outputs": [
    {
     "name": "stdout",
     "output_type": "stream",
     "text": [
      "6\n"
     ]
    }
   ],
   "source": [
    "# Example usage\n",
    "n = 5  # Length of the string\n",
    "k = 2  # Number of available letters\n",
    "s = \"abcab\"  # The string\n",
    "available_letters = {\"a\", \"b\"}  # Set of available letters\n",
    "\n",
    "# Calculate the number of substrings\n",
    "result = count_substrings(n, k, s, available_letters)\n",
    "print(result)"
   ]
  },
  {
   "cell_type": "code",
   "execution_count": 83,
   "metadata": {},
   "outputs": [
    {
     "data": {
      "text/plain": [
       "4950"
      ]
     },
     "execution_count": 83,
     "metadata": {},
     "output_type": "execute_result"
    }
   ],
   "source": [
    "sum_ = 0\n",
    "for i in range(1, 99 + 1):\n",
    "    sum_ += i\n",
    "    \n",
    "sum_"
   ]
  },
  {
   "cell_type": "code",
   "execution_count": 80,
   "metadata": {},
   "outputs": [],
   "source": [
    "def dfs(graph, node, visited):\n",
    "    \"\"\"\n",
    "    Counts the number of edgeas in current connected component\n",
    "    \"\"\"\n",
    "    visited.add(node)\n",
    "    size = 1\n",
    "    sum_of_degrees = len(graph[node])\n",
    "    \n",
    "    for neighbor in graph[node]:\n",
    "        \n",
    "        if neighbor not in visited:\n",
    "\n",
    "            size_recursive, sum_of_node_degrees_recursive = dfs(graph, neighbor, visited)\n",
    "            size += size_recursive\n",
    "            sum_of_degrees += sum_of_node_degrees_recursive\n",
    "    return size, sum_of_degrees\n",
    "\n",
    "\n",
    "def build_new_roads(graph):\n",
    "    visited = set()\n",
    "    component_sizes_and_numbder_of_edges = []\n",
    "    \n",
    "    number_of_roads_to_be_built = 0\n",
    "    \n",
    "    for node in graph:\n",
    "        if node not in visited:\n",
    "            size, edge_count_paired = dfs(graph=graph, node=node, visited=visited)\n",
    "            edge_count = edge_count_paired // 2\n",
    "            \n",
    "            total_edges_for_this_side = size * (size - 1) // 2\n",
    "            if size > 2:\n",
    "                number_of_roads_to_be_built += total_edges_for_this_side - edge_count\n",
    "                \n",
    "            print(size, edge_count, (size * (size + 1) // 2) - edge_count)\n",
    "\n",
    "            component_sizes_and_numbder_of_edges.append((size, edge_count))\n",
    "            \n",
    "    return number_of_roads_to_be_built"
   ]
  },
  {
   "cell_type": "code",
   "execution_count": 81,
   "metadata": {},
   "outputs": [
    {
     "name": "stdout",
     "output_type": "stream",
     "text": [
      "4 6 4\n",
      "2 1 2\n"
     ]
    },
    {
     "data": {
      "text/plain": [
       "0"
      ]
     },
     "execution_count": 81,
     "metadata": {},
     "output_type": "execute_result"
    }
   ],
   "source": [
    "graph = {\n",
    "    0: [1, 2, 3],\n",
    "    1: [0, 2, 3],\n",
    "    2: [0, 3, 1],\n",
    "    3: [0, 1, 2],\n",
    "    4: [5],\n",
    "    5: [4]\n",
    "}\n",
    "\n",
    "build_new_roads(graph)"
   ]
  },
  {
   "cell_type": "code",
   "execution_count": null,
   "metadata": {},
   "outputs": [],
   "source": []
  },
  {
   "cell_type": "code",
   "execution_count": null,
   "metadata": {},
   "outputs": [],
   "source": []
  }
 ],
 "metadata": {
  "kernelspec": {
   "display_name": "ml",
   "language": "python",
   "name": "python3"
  },
  "language_info": {
   "codemirror_mode": {
    "name": "ipython",
    "version": 3
   },
   "file_extension": ".py",
   "mimetype": "text/x-python",
   "name": "python",
   "nbconvert_exporter": "python",
   "pygments_lexer": "ipython3",
   "version": "3.9.0"
  }
 },
 "nbformat": 4,
 "nbformat_minor": 2
}
