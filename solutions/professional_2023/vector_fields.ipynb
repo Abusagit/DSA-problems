{
 "cells": [
  {
   "cell_type": "code",
   "execution_count": 16,
   "metadata": {},
   "outputs": [],
   "source": [
    "import pandas as pd\n",
    "from sklearn.model_selection import train_test_split, RandomizedSearchCV, GridSearchCV\n",
    "from xgboost import XGBRegressor\n",
    "from sklearn.metrics import mean_absolute_error\n",
    "import numpy as np"
   ]
  },
  {
   "cell_type": "code",
   "execution_count": 17,
   "metadata": {},
   "outputs": [],
   "source": [
    "# Загрузка обучающего набора данных\n",
    "train_data = pd.read_csv('train.csv')\n",
    "X = train_data[['x', 'y', 'z']]\n",
    "y = train_data[['u_x', 'u_y', 'u_z', 'p']]\n",
    "\n",
    "# Загрузка тестового набора данных\n",
    "test_data = pd.read_csv('test.csv')\n",
    "\n",
    "\n",
    "\n",
    "\n"
   ]
  },
  {
   "cell_type": "code",
   "execution_count": 31,
   "metadata": {},
   "outputs": [],
   "source": [
    "# Параметры для Random Search\n",
    "params = {\n",
    "    'n_estimators': [1000, 10000],\n",
    "    'learning_rate': [0.01, 0.05, 0.1],\n",
    "    'max_depth': [3, 5, 7, 10]\n",
    "}\n",
    "\n",
    "# Словарь для хранения лучших моделей для каждой целевой переменной\n",
    "best_models = {}\n"
   ]
  },
  {
   "cell_type": "code",
   "execution_count": 32,
   "metadata": {},
   "outputs": [
    {
     "name": "stdout",
     "output_type": "stream",
     "text": [
      "Optimizing for u_x\n"
     ]
    },
    {
     "name": "stdout",
     "output_type": "stream",
     "text": [
      "1.0455240271752064\n",
      "Optimizing for u_y\n",
      "1.0742307210112092\n",
      "Optimizing for u_z\n",
      "1.0478771883052072\n",
      "Optimizing for p\n",
      "492.62152519969555\n"
     ]
    }
   ],
   "source": [
    "for target in y.columns:\n",
    "    print(f\"Optimizing for {target}\")\n",
    "    xgb = XGBRegressor(random_state=42)\n",
    "    random_search = GridSearchCV(xgb, param_grid=params, scoring='neg_mean_absolute_error', n_jobs=-1, cv=3)\n",
    "    random_search.fit(X, y[target])\n",
    "    best_models[target] = random_search.best_estimator_\n",
    "    print(- 1.0* random_search.best_score_)"
   ]
  },
  {
   "cell_type": "code",
   "execution_count": 33,
   "metadata": {},
   "outputs": [],
   "source": [
    "# Делаем предсказания для тестового набора данных и сохраняем результаты\n",
    "predictions = {}\n",
    "for target, model in best_models.items():\n",
    "    predictions[target] = model.predict(test_data)"
   ]
  },
  {
   "cell_type": "code",
   "execution_count": null,
   "metadata": {},
   "outputs": [],
   "source": [
    "# Сохраняем предсказания в DataFrame и в файл CSV\n",
    "predictions_df = pd.DataFrame(predictions)\n",
    "predictions_df.to_csv('predictions.csv', index=False)"
   ]
  },
  {
   "cell_type": "code",
   "execution_count": null,
   "metadata": {},
   "outputs": [],
   "source": []
  },
  {
   "cell_type": "code",
   "execution_count": null,
   "metadata": {},
   "outputs": [],
   "source": []
  }
 ],
 "metadata": {
  "kernelspec": {
   "display_name": "ml",
   "language": "python",
   "name": "python3"
  },
  "language_info": {
   "codemirror_mode": {
    "name": "ipython",
    "version": 3
   },
   "file_extension": ".py",
   "mimetype": "text/x-python",
   "name": "python",
   "nbconvert_exporter": "python",
   "pygments_lexer": "ipython3",
   "version": "3.9.0"
  }
 },
 "nbformat": 4,
 "nbformat_minor": 2
}
